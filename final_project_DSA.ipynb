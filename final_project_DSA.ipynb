{
  "cells": [
    {
      "cell_type": "code",
      "source": [
        "!pip install pyspark\n",
        "\n"
      ],
      "metadata": {
        "colab": {
          "base_uri": "https://localhost:8080/"
        },
        "id": "v67_o80qqhR9",
        "outputId": "827bf268-14e3-4edb-90f1-7ca793dd7796"
      },
      "id": "v67_o80qqhR9",
      "execution_count": 6,
      "outputs": [
        {
          "output_type": "stream",
          "name": "stdout",
          "text": [
            "Collecting pyspark\n",
            "  Downloading pyspark-3.5.0.tar.gz (316.9 MB)\n",
            "\u001b[2K     \u001b[90m━━━━━━━━━━━━━━━━━━━━━━━━━━━━━━━━━━━━━━━━\u001b[0m \u001b[32m316.9/316.9 MB\u001b[0m \u001b[31m4.4 MB/s\u001b[0m eta \u001b[36m0:00:00\u001b[0m\n",
            "\u001b[?25h  Preparing metadata (setup.py) ... \u001b[?25l\u001b[?25hdone\n",
            "Requirement already satisfied: py4j==0.10.9.7 in /usr/local/lib/python3.10/dist-packages (from pyspark) (0.10.9.7)\n",
            "Building wheels for collected packages: pyspark\n",
            "  Building wheel for pyspark (setup.py) ... \u001b[?25l\u001b[?25hdone\n",
            "  Created wheel for pyspark: filename=pyspark-3.5.0-py2.py3-none-any.whl size=317425345 sha256=83ac48a943eaf3d502edceb3acb4c3d5dbbf340350a53e11af2459972bd9d502\n",
            "  Stored in directory: /root/.cache/pip/wheels/41/4e/10/c2cf2467f71c678cfc8a6b9ac9241e5e44a01940da8fbb17fc\n",
            "Successfully built pyspark\n",
            "Installing collected packages: pyspark\n",
            "Successfully installed pyspark-3.5.0\n"
          ]
        }
      ]
    },
    {
      "cell_type": "code",
      "source": [
        "import pyspark\n",
        "from pyspark.sql import SparkSession\n",
        "import pandas as pd\n",
        "import glob\n"
      ],
      "metadata": {
        "id": "zf6kPVePrE8H"
      },
      "id": "zf6kPVePrE8H",
      "execution_count": 12,
      "outputs": []
    },
    {
      "cell_type": "code",
      "source": [
        "path = \"D:/BDAT_IN_D/red wine/*.csv\""
      ],
      "metadata": {
        "id": "VQMJhIz6x5i6"
      },
      "id": "VQMJhIz6x5i6",
      "execution_count": 10,
      "outputs": []
    },
    {
      "cell_type": "code",
      "source": [
        "file_paths = glob.glob(path)"
      ],
      "metadata": {
        "id": "o4aLYQC4ySSg"
      },
      "id": "o4aLYQC4ySSg",
      "execution_count": 13,
      "outputs": []
    },
    {
      "cell_type": "code",
      "source": [
        "spark = SparkSession.builder.appName('bitcoin').getOrCreate()"
      ],
      "metadata": {
        "id": "j4axh-Mt3DvF"
      },
      "id": "j4axh-Mt3DvF",
      "execution_count": 16,
      "outputs": []
    },
    {
      "cell_type": "code",
      "source": [
        "spark"
      ],
      "metadata": {
        "colab": {
          "base_uri": "https://localhost:8080/",
          "height": 219
        },
        "id": "SHPUUVJN30xA",
        "outputId": "a860f5d0-6e0b-4e87-ce9e-8756c1259b35"
      },
      "id": "SHPUUVJN30xA",
      "execution_count": 17,
      "outputs": [
        {
          "output_type": "execute_result",
          "data": {
            "text/plain": [
              "<pyspark.sql.session.SparkSession at 0x79ac4387cd60>"
            ],
            "text/html": [
              "\n",
              "            <div>\n",
              "                <p><b>SparkSession - in-memory</b></p>\n",
              "                \n",
              "        <div>\n",
              "            <p><b>SparkContext</b></p>\n",
              "\n",
              "            <p><a href=\"http://72b6e5597729:4040\">Spark UI</a></p>\n",
              "\n",
              "            <dl>\n",
              "              <dt>Version</dt>\n",
              "                <dd><code>v3.5.0</code></dd>\n",
              "              <dt>Master</dt>\n",
              "                <dd><code>local[*]</code></dd>\n",
              "              <dt>AppName</dt>\n",
              "                <dd><code>bitcoin</code></dd>\n",
              "            </dl>\n",
              "        </div>\n",
              "        \n",
              "            </div>\n",
              "        "
            ]
          },
          "metadata": {},
          "execution_count": 17
        }
      ]
    },
    {
      "cell_type": "code",
      "source": [
        "df_pyspark = spark.read.csv(\"/content/1inch_usd.csv\")"
      ],
      "metadata": {
        "id": "IL12aIXU336K"
      },
      "id": "IL12aIXU336K",
      "execution_count": 20,
      "outputs": []
    },
    {
      "cell_type": "code",
      "source": [
        "df_pyspark.show()"
      ],
      "metadata": {
        "colab": {
          "base_uri": "https://localhost:8080/"
        },
        "id": "W675pZU24klU",
        "outputId": "48bec263-ce0c-4075-b397-9799b7f1b236"
      },
      "id": "W675pZU24klU",
      "execution_count": 21,
      "outputs": [
        {
          "output_type": "stream",
          "name": "stdout",
          "text": [
            "+-------------+-------+-------+-------+-------+-----------+\n",
            "|          _c0|    _c1|    _c2|    _c3|    _c4|        _c5|\n",
            "+-------------+-------+-------+-------+-------+-----------+\n",
            "|         time|   open|  close|   high|    low|     volume|\n",
            "|1685775600000|0.37951|0.37951|0.37951|0.37951| 2.78213566|\n",
            "|1685776680000|0.37851|0.37851|0.37851|0.37851| 2.11481565|\n",
            "|1685777760000|0.37783|0.37783|0.37783|0.37783| 2.28235782|\n",
            "|1685779860000|0.37675|0.37675|0.37675|0.37675| 2.71847905|\n",
            "|1685780880000|0.37749|0.37749|0.37749|0.37749| 2.64663154|\n",
            "|1685781900000|0.37699|0.37699|0.37699|0.37699| 2.55275446|\n",
            "|1685782680000|0.37638|0.37638|0.37638|0.37638| 23.1830595|\n",
            "|1685782980000|0.37638|0.37638|0.37638|0.37638|23.24683028|\n",
            "|1685785320000|0.37729|0.37729|0.37729|0.37729| 117.203191|\n",
            "|1685786040000|0.37695|0.37696|0.37696|0.37695|    668.617|\n",
            "|1685787000000|0.37634|0.37634|0.37634|0.37634| 2.15214169|\n",
            "|1685788020000|0.37598|0.37598|0.37598|0.37598| 3.06161842|\n",
            "|1685788620000| 0.3773| 0.3773| 0.3773| 0.3773| 2.02933868|\n",
            "|1685789340000|0.37744|0.37744|0.37744|0.37744|      105.0|\n",
            "|1685790540000|0.37737|0.37737|0.37737|0.37737|      260.0|\n",
            "|1685791440000|0.37695|0.37695|0.37695|0.37695| 3.82209833|\n",
            "|1685792400000|0.37736|0.37736|0.37736|0.37736|23.17406307|\n",
            "|1685793540000|0.37609|0.37609|0.37609|0.37609|  2.2595031|\n",
            "|1685794380000|0.37549|0.37549|0.37549|0.37549| 2.48449912|\n",
            "+-------------+-------+-------+-------+-------+-----------+\n",
            "only showing top 20 rows\n",
            "\n"
          ]
        }
      ]
    },
    {
      "cell_type": "code",
      "source": [
        "spark.read.option('header','true').csv(\"/content/1inch_usd.csv\").show()"
      ],
      "metadata": {
        "colab": {
          "base_uri": "https://localhost:8080/"
        },
        "id": "6U5NrYid4zvN",
        "outputId": "b78cf8e1-b625-49db-b2c4-a46a05ce502d"
      },
      "id": "6U5NrYid4zvN",
      "execution_count": 25,
      "outputs": [
        {
          "output_type": "stream",
          "name": "stdout",
          "text": [
            "+-------------+-------+-------+-------+-------+-----------+\n",
            "|         time|   open|  close|   high|    low|     volume|\n",
            "+-------------+-------+-------+-------+-------+-----------+\n",
            "|1685775600000|0.37951|0.37951|0.37951|0.37951| 2.78213566|\n",
            "|1685776680000|0.37851|0.37851|0.37851|0.37851| 2.11481565|\n",
            "|1685777760000|0.37783|0.37783|0.37783|0.37783| 2.28235782|\n",
            "|1685779860000|0.37675|0.37675|0.37675|0.37675| 2.71847905|\n",
            "|1685780880000|0.37749|0.37749|0.37749|0.37749| 2.64663154|\n",
            "|1685781900000|0.37699|0.37699|0.37699|0.37699| 2.55275446|\n",
            "|1685782680000|0.37638|0.37638|0.37638|0.37638| 23.1830595|\n",
            "|1685782980000|0.37638|0.37638|0.37638|0.37638|23.24683028|\n",
            "|1685785320000|0.37729|0.37729|0.37729|0.37729| 117.203191|\n",
            "|1685786040000|0.37695|0.37696|0.37696|0.37695|    668.617|\n",
            "|1685787000000|0.37634|0.37634|0.37634|0.37634| 2.15214169|\n",
            "|1685788020000|0.37598|0.37598|0.37598|0.37598| 3.06161842|\n",
            "|1685788620000| 0.3773| 0.3773| 0.3773| 0.3773| 2.02933868|\n",
            "|1685789340000|0.37744|0.37744|0.37744|0.37744|      105.0|\n",
            "|1685790540000|0.37737|0.37737|0.37737|0.37737|      260.0|\n",
            "|1685791440000|0.37695|0.37695|0.37695|0.37695| 3.82209833|\n",
            "|1685792400000|0.37736|0.37736|0.37736|0.37736|23.17406307|\n",
            "|1685793540000|0.37609|0.37609|0.37609|0.37609|  2.2595031|\n",
            "|1685794380000|0.37549|0.37549|0.37549|0.37549| 2.48449912|\n",
            "|1685796240000|0.37672|0.37672|0.37672|0.37672| 2.28057603|\n",
            "+-------------+-------+-------+-------+-------+-----------+\n",
            "only showing top 20 rows\n",
            "\n"
          ]
        }
      ]
    },
    {
      "cell_type": "code",
      "source": [
        "df_pyspark.filter(\"_c5<= 50\").select(['_c5']).show()"
      ],
      "metadata": {
        "colab": {
          "base_uri": "https://localhost:8080/"
        },
        "id": "7qW85P7t5cTm",
        "outputId": "71ddbe5e-54f5-4b5a-dec1-cedd7329eafe"
      },
      "id": "7qW85P7t5cTm",
      "execution_count": 28,
      "outputs": [
        {
          "output_type": "stream",
          "name": "stdout",
          "text": [
            "+-----------+\n",
            "|        _c5|\n",
            "+-----------+\n",
            "| 2.78213566|\n",
            "| 2.11481565|\n",
            "| 2.28235782|\n",
            "| 2.71847905|\n",
            "| 2.64663154|\n",
            "| 2.55275446|\n",
            "| 23.1830595|\n",
            "|23.24683028|\n",
            "| 2.15214169|\n",
            "| 3.06161842|\n",
            "| 2.02933868|\n",
            "| 3.82209833|\n",
            "|23.17406307|\n",
            "|  2.2595031|\n",
            "| 2.48449912|\n",
            "| 2.28057603|\n",
            "| 3.57052192|\n",
            "|11.62044639|\n",
            "|23.24559141|\n",
            "| 2.69078659|\n",
            "+-----------+\n",
            "only showing top 20 rows\n",
            "\n"
          ]
        }
      ]
    },
    {
      "cell_type": "code",
      "source": [
        "df_pyspark.groupBy('_c5').avg().show()"
      ],
      "metadata": {
        "colab": {
          "base_uri": "https://localhost:8080/"
        },
        "id": "G3sGs99q701c",
        "outputId": "c46f224d-9924-4eff-ac6e-b9d903cf6c1c"
      },
      "id": "G3sGs99q701c",
      "execution_count": 32,
      "outputs": [
        {
          "output_type": "stream",
          "name": "stdout",
          "text": [
            "+-----------------+\n",
            "|              _c5|\n",
            "+-----------------+\n",
            "|    4243.77218951|\n",
            "|     380.72049274|\n",
            "|     409.58871113|\n",
            "|    1003.54574058|\n",
            "|      53.53579257|\n",
            "|     440.32909301|\n",
            "|       32.3898717|\n",
            "|     913.99580536|\n",
            "|     445.39918597|\n",
            "|     190.57133792|\n",
            "|         787.4615|\n",
            "|       3.71775387|\n",
            "|      18.07572306|\n",
            "|          196.022|\n",
            "|       2.40324363|\n",
            "|       2.29977466|\n",
            "|       3.53771499|\n",
            "|       2.29068099|\n",
            "|     367.93695118|\n",
            "|78.85199635000001|\n",
            "+-----------------+\n",
            "only showing top 20 rows\n",
            "\n"
          ]
        }
      ]
    },
    {
      "cell_type": "code",
      "source": [
        "df_pyspark.groupBy('_c5').count().show()"
      ],
      "metadata": {
        "colab": {
          "base_uri": "https://localhost:8080/"
        },
        "id": "czsdWYic-O4A",
        "outputId": "142a98ba-ef9f-4206-f3cd-04add9710d25"
      },
      "id": "czsdWYic-O4A",
      "execution_count": 37,
      "outputs": [
        {
          "output_type": "stream",
          "name": "stdout",
          "text": [
            "+-----------------+-----+\n",
            "|              _c5|count|\n",
            "+-----------------+-----+\n",
            "|    4243.77218951|    1|\n",
            "|     380.72049274|    1|\n",
            "|     409.58871113|    1|\n",
            "|    1003.54574058|    1|\n",
            "|      53.53579257|    1|\n",
            "|     440.32909301|    1|\n",
            "|       32.3898717|    1|\n",
            "|     913.99580536|    1|\n",
            "|     445.39918597|    1|\n",
            "|     190.57133792|    1|\n",
            "|         787.4615|    1|\n",
            "|       3.71775387|    1|\n",
            "|      18.07572306|    1|\n",
            "|          196.022|    1|\n",
            "|       2.40324363|    1|\n",
            "|       2.29977466|    1|\n",
            "|       3.53771499|    1|\n",
            "|       2.29068099|    1|\n",
            "|     367.93695118|    1|\n",
            "|78.85199635000001|    1|\n",
            "+-----------------+-----+\n",
            "only showing top 20 rows\n",
            "\n"
          ]
        }
      ]
    },
    {
      "cell_type": "code",
      "source": [
        "df_pyspark.agg({'_c5':'sum'}).show()"
      ],
      "metadata": {
        "colab": {
          "base_uri": "https://localhost:8080/"
        },
        "id": "7t_tgWWC-taL",
        "outputId": "087dccf8-4b49-4125-ca5a-1515d2c39d26"
      },
      "id": "7t_tgWWC-taL",
      "execution_count": 38,
      "outputs": [
        {
          "output_type": "stream",
          "name": "stdout",
          "text": [
            "+-----------------+\n",
            "|         sum(_c5)|\n",
            "+-----------------+\n",
            "|968955.1411645608|\n",
            "+-----------------+\n",
            "\n"
          ]
        }
      ]
    },
    {
      "cell_type": "code",
      "source": [
        "df_pyspark = df_pyspark.withColumn(\"_c0\",df_pyspark._c0.cast(\"Integer\"))\n",
        "df_pyspark = df_pyspark.withColumn(\"_c1\",df_pyspark._c1.cast(\"Integer\"))\n",
        "df_pyspark = df_pyspark.withColumn(\"_c2\",df_pyspark._c2.cast(\"Integer\"))\n",
        "df_pyspark = df_pyspark.withColumn(\"_c3\",df_pyspark._c3.cast(\"Integer\"))\n",
        "df_pyspark = df_pyspark.withColumn(\"_c4\",df_pyspark._c4.cast(\"Integer\"))\n",
        "df_pyspark = df_pyspark.withColumn(\"_c5\",df_pyspark._c5.cast(\"Integer\"))"
      ],
      "metadata": {
        "id": "jq9F1d3VCL72"
      },
      "id": "jq9F1d3VCL72",
      "execution_count": 58,
      "outputs": []
    },
    {
      "cell_type": "code",
      "source": [
        "from pyspark.ml.feature import VectorAssembler\n",
        "featureassembler = VectorAssembler(inputCols = [\"_c3\",\"_c4\"],outputCol=\"Independent Features\")"
      ],
      "metadata": {
        "id": "RPmWHRN9_Cxf"
      },
      "id": "RPmWHRN9_Cxf",
      "execution_count": 59,
      "outputs": []
    },
    {
      "cell_type": "code",
      "source": [
        "output = featureassembler.transform(df_pyspark)"
      ],
      "metadata": {
        "id": "dYnqPoTG_-aV"
      },
      "id": "dYnqPoTG_-aV",
      "execution_count": 60,
      "outputs": []
    },
    {
      "cell_type": "code",
      "source": [
        "output.columns"
      ],
      "metadata": {
        "colab": {
          "base_uri": "https://localhost:8080/"
        },
        "id": "u2QeZ8xtDH6P",
        "outputId": "12a791a5-a7dc-4a78-fcb4-b32734539c97"
      },
      "id": "u2QeZ8xtDH6P",
      "execution_count": 61,
      "outputs": [
        {
          "output_type": "execute_result",
          "data": {
            "text/plain": [
              "['_c0', '_c1', '_c2', '_c3', '_c4', '_c5', 'Independent Features']"
            ]
          },
          "metadata": {},
          "execution_count": 61
        }
      ]
    },
    {
      "cell_type": "code",
      "source": [
        "fd = output.select(\"_c5\",\"Independent Features\")"
      ],
      "metadata": {
        "id": "V23vveoPDdox"
      },
      "id": "V23vveoPDdox",
      "execution_count": 62,
      "outputs": []
    },
    {
      "cell_type": "code",
      "source": [
        "from pyspark.ml.regression import LinearRegression\n",
        "\n",
        "train_data, test_data = fd.randomSplit([0.75,0.25])\n",
        "regressor = LinearRegression(featuresCol = 'Independent Features', labelCol = '_c5')\n"
      ],
      "metadata": {
        "id": "S5eq8MOzEmpY"
      },
      "id": "S5eq8MOzEmpY",
      "execution_count": 64,
      "outputs": []
    },
    {
      "cell_type": "code",
      "source": [
        "regressor = regressor.fit(train_data)"
      ],
      "metadata": {
        "id": "x-ZdiWeCG1k_"
      },
      "id": "x-ZdiWeCG1k_",
      "execution_count": null,
      "outputs": []
    },
    {
      "cell_type": "code",
      "source": [
        "regressor.coefficients"
      ],
      "metadata": {
        "id": "KYsFoeuyF6yY"
      },
      "id": "KYsFoeuyF6yY",
      "execution_count": 65,
      "outputs": []
    },
    {
      "cell_type": "code",
      "source": [
        "regressor.intercept"
      ],
      "metadata": {
        "id": "SbpyBl9LHDVb"
      },
      "id": "SbpyBl9LHDVb",
      "execution_count": 65,
      "outputs": []
    },
    {
      "cell_type": "code",
      "source": [
        "pred_results = regressor.evaluate(test_data)"
      ],
      "metadata": {
        "id": "1BpYuZjaIQmW"
      },
      "id": "1BpYuZjaIQmW",
      "execution_count": null,
      "outputs": []
    },
    {
      "cell_type": "code",
      "source": [
        "pred_results.predictions.show()"
      ],
      "metadata": {
        "id": "SH950nhWIpC3"
      },
      "id": "SH950nhWIpC3",
      "execution_count": null,
      "outputs": []
    },
    {
      "cell_type": "code",
      "source": [
        "pred_result.meanAbsoluteError, pred_result.meanSquaredError"
      ],
      "metadata": {
        "id": "zi-JmwgSI5bz"
      },
      "id": "zi-JmwgSI5bz",
      "execution_count": null,
      "outputs": []
    }
  ],
  "metadata": {
    "kernelspec": {
      "display_name": "Python 3 (ipykernel)",
      "language": "python",
      "name": "python3"
    },
    "language_info": {
      "codemirror_mode": {
        "name": "ipython",
        "version": 3
      },
      "file_extension": ".py",
      "mimetype": "text/x-python",
      "name": "python",
      "nbconvert_exporter": "python",
      "pygments_lexer": "ipython3",
      "version": "3.10.10"
    },
    "colab": {
      "provenance": []
    }
  },
  "nbformat": 4,
  "nbformat_minor": 5
}